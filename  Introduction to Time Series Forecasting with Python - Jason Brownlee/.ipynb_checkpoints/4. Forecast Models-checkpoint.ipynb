{
 "cells": [
  {
   "cell_type": "markdown",
   "id": "35cbe6cc-d503-48de-9e2b-7c8023beea02",
   "metadata": {},
   "source": [
    "# A Gentle Introduction to the Box-Jenkins Method"
   ]
  },
  {
   "cell_type": "markdown",
   "id": "230ed61f-37a1-4187-b3a1-6f21b95a7d0b",
   "metadata": {},
   "source": [
    "The Autoregressive Integrated Moving Average Model, or ARIMA for short is a standard statistical model for time series forecast and analysis. \n",
    "Along with its development, the authors Box and Jenkins also suggest a process for identifying, estimating, and checking models for a specific time series dataset. This process is now referred to as the Box-Jenkins Method. In this lesson, you will discover the Box-Jenkins Method and tips for using it on your time series forecasting problem. Specifically, you will learn:\n",
    "- About the ARIMA process and how the 3 steps of the Box-Jenkins Method.\n",
    "- Best practice heuristics for selecting the q, d, and p model configuration for an ARIMA\n",
    "model.\n",
    "- Evaluating models by looking for overfitting and residual errors as a diagnostic process.\n",
    "\n",
    "### Autoregressive Integrated Moving Average Model\n",
    "An ARIMA model is a class of statistical model for analyzing and forecasting time series data. ARIMA is an acronym that stands for AutoRegressive Integrated Moving Average. \n",
    "\n",
    "It is a generalization of the simpler AutoRegressive Moving Average and adds the notion of integration. This acronym is descriptive, capturing the key aspects of the model itself. \n",
    "Briefly, they are:\n",
    "\n",
    "- **AR: Autoregression.** A model that uses the dependent relationship between an observation and some number of lagged observations.\n",
    "- **I: Integrated.** The use of differencing of raw observations (i.e. subtracting an observation from an observation at the previous time step) in order to make the time series stationary.\n",
    "- **MA: Moving Average.** A model that uses the dependency between an observation and residual errors from a moving average model applied to lagged observations.\n",
    "\n",
    "Each of these components are explicitly specified in the model as a parameter. A standard notation is used of ARIMA(p,d,q) where the parameters are substituted with integer values to quickly indicate the specific ARIMA model being used. The parameters of the ARIMA model are defined as follows:\n",
    "\n",
    "- **p:** The number of lag observations included in the model, also called **the lag order**.\n",
    "\n",
    "- **d:** The number of times that the raw observations are differenced, also called **the degree\n",
    "of differencing**.\n",
    "\n",
    "- **q:** The size of the moving average window, also called **the order of moving average**.\n",
    "\n",
    "### Box-Jenkins Method\n",
    "The Box-Jenkins method was proposed by George Box and Gwilym Jenkins in their seminal 1970 textbook Time Series Analysis: Forecasting and Control1. \n",
    "\n",
    "The approach starts with the assumption that the process that generated the time series can be approximated using an ARMA model if it is stationary or an ARIMA model if it is non-stationary. \n",
    "\n",
    "The 2016 5th edition of the textbook (Part Two, page 177) refers to the process as a stochastic model building and that it is an iterative approach that consists of the following 3 steps:\n",
    "\n",
    "1. **Identification.** Use the data and all related information to help select a sub-class of model that may best summarize the data.\n",
    "\n",
    "2. **Estimation.** Use the data to train the parameters of the model (i.e. the coefficients).\n",
    "\n",
    "3. **Diagnostic Checking.** Evaluate the fitted model in the context of the available data and check for areas where the model may be improved.\n",
    "\n",
    "It is an iterative process, so that as new information is gained during diagnostics, you can circle back to step 1 and incorporate that into new model classes. Let’s take a look at these steps in more detail."
   ]
  },
  {
   "cell_type": "markdown",
   "id": "d6178a68-6bf9-47fc-a85d-f10f9f30055b",
   "metadata": {},
   "source": [
    "## Identification\n",
    "The identification step is further broken down into: Assess whether the time series is stationary, and if not, how many differences are required to make it stationary. Identify the parameters of an ARMA model for the data.\n",
    "\n",
    "## Differencing\n",
    "Below are some tips during identification.\n",
    "- **Unit Root Tests.** Use unit root statistical tests on the time series to determine whether or not it is stationary. Repeat after each round of differencing.\n",
    "- **Avoid over differencing.** Differencing the time series more than is required can result in the addition of extra serial correlation and additional complexity.\n",
    "\n",
    "## Configuring AR and MA\n",
    "Two diagnostic plots can be used to help choose the p and q parameters of the ARMA or ARIMA. They are:\n",
    "- **Autocorrelation Function (ACF).** The plot summarizes the correlation of an observation with lag values. The x-axis shows the lag and the y-axis shows the correlation coefficient between -1 and 1 for negative and positive correlation.\n",
    "- **Partial Autocorrelation Function (PACF).** The plot summarizes the correlations for an observation with lag values that is not accounted for by prior lagged observations.\n",
    "\n",
    "Both plots are drawn as bar charts showing the 95% and 99% confidence intervals as horizontal lines. Bars that cross these confidence intervals are therefore more significant and worth noting. Some useful patterns you may observe on these plots are:\n",
    "- The model is AR if the ACF trails off after a lag and has a hard cut-off in the PACF after a lag. This lag is taken as the value for p.\n",
    "- The model is MA if the PACF trails off after a lag and has a hard cut-off in the ACF after the lag. This lag value is taken as the value for q.\n",
    "- The model is a mixo f AR and MA if both the AC Fand PACF trail off.\n",
    "\n",
    "## Estimation\n",
    "\n",
    "Estimation involves using numerical methods to minimize a loss or error term. I would recommend referring to a textbook for a deeper understanding of the optimization problem to be solved by ARMA and ARIMA models and optimization methods like Limited-memory BFGS used to solve it.\n",
    "\n",
    "## Diagnostic Checking\n",
    "The idea of diagnostic checking is to look for evidence that the model is not a good fit for the data. Two useful areas to investigate diagnostics are:\n",
    "1. Overfitting.\n",
    "The first check is to check whether the model overfits the data. Generally, this means that the model is more complex than it needs to be and captures random noise in the training data. \n",
    "This is a problem for time series forecasting because it negatively impacts the ability of the model to generalize, resulting in poor forecast performance on out-of-sample data. \n",
    "Careful attention must be paid to both in-sample and out-of-sample performance and this requires the careful design of a robust test harness for evaluating models.\n",
    "2. Residual Errors.\n",
    "Forecast residuals provide a great opportunity for diagnostics. A review of the distribution of errors can help tease out bias in the model. The errors from an ideal model would resemble white noise, that is a Gaussian distribution with a mean of zero and a symmetrical variance. For this, you may use density plots, histograms, and Q-Q plots that compare the distribution of errors to the expected distribution. A non-Gaussian distribution may suggest an opportunity for data pre-processing. A skew in the distribution or a non-zero mean may suggest a bias in forecasts that may be correct.\n",
    "Additionally, an ideal model would leave no temporal structure in the time series of forecast residuals. These can be checked by creating ACF and PACF plots of the residual error time series. The presence of serial correlation in the residual errors suggests further opportunity for using this information in the model.\n",
    "\n"
   ]
  },
  {
   "cell_type": "markdown",
   "id": "22884467-e465-48fd-bae9-1e7baab2f0f1",
   "metadata": {},
   "source": [
    "# Autoregression Models for Forecasting\n",
    "\n",
    "Autoregression is a time series model that uses observations from previous time steps as input to a regression equation to predict the value at the next time step. It is a very simple idea that can result in accurate forecasts on a range of time series problems. "
   ]
  },
  {
   "cell_type": "code",
   "execution_count": null,
   "id": "45151a9a-6a40-42e2-b7d2-50dce8017b01",
   "metadata": {},
   "outputs": [],
   "source": []
  },
  {
   "cell_type": "code",
   "execution_count": null,
   "id": "5e7cee03-b813-4df0-b072-16032bd64283",
   "metadata": {},
   "outputs": [],
   "source": []
  },
  {
   "cell_type": "code",
   "execution_count": null,
   "id": "97b6d43f-0893-45e9-8f15-f133b677e202",
   "metadata": {},
   "outputs": [],
   "source": []
  },
  {
   "cell_type": "markdown",
   "id": "d3ce225e-c05e-486d-a94c-cd58782547a7",
   "metadata": {},
   "source": [
    "# Moving Average Models for Forecasting"
   ]
  },
  {
   "cell_type": "code",
   "execution_count": null,
   "id": "43e2e29a-8551-49f1-8c0d-79ae6b58be16",
   "metadata": {},
   "outputs": [],
   "source": []
  },
  {
   "cell_type": "code",
   "execution_count": null,
   "id": "593e70f7-dd7c-42b8-8401-d930ca4d7a8d",
   "metadata": {},
   "outputs": [],
   "source": []
  },
  {
   "cell_type": "code",
   "execution_count": null,
   "id": "4f952855-9c6f-47a2-a751-4596fb572504",
   "metadata": {},
   "outputs": [],
   "source": []
  },
  {
   "cell_type": "code",
   "execution_count": null,
   "id": "8a385eec-bc1e-4a99-88c5-7f6ceac780b3",
   "metadata": {},
   "outputs": [],
   "source": []
  },
  {
   "cell_type": "markdown",
   "id": "e814a0bf-610f-44b5-819b-39e9c43cd58b",
   "metadata": {},
   "source": [
    "# ARIMA Model for Forecasting"
   ]
  },
  {
   "cell_type": "code",
   "execution_count": null,
   "id": "19541f8e-e1cb-4150-aeaf-a2fe8ae9da49",
   "metadata": {},
   "outputs": [],
   "source": []
  },
  {
   "cell_type": "code",
   "execution_count": null,
   "id": "f867462a-8947-4259-b673-23242bbeffe3",
   "metadata": {},
   "outputs": [],
   "source": []
  },
  {
   "cell_type": "code",
   "execution_count": null,
   "id": "1aa83de2-7b63-42ba-a725-dda753655771",
   "metadata": {},
   "outputs": [],
   "source": []
  },
  {
   "cell_type": "code",
   "execution_count": null,
   "id": "612d6b48-d43c-46ac-8e2d-adad840a0d10",
   "metadata": {},
   "outputs": [],
   "source": []
  },
  {
   "cell_type": "markdown",
   "id": "7cae5165-9ed9-41d2-87d1-5a26c33bb9f6",
   "metadata": {},
   "source": [
    "# Autocorrelation and Partial Autocorrelation"
   ]
  },
  {
   "cell_type": "code",
   "execution_count": null,
   "id": "cce7c952-9c4c-4b21-b3ee-c8ae6e4be0a0",
   "metadata": {},
   "outputs": [],
   "source": []
  },
  {
   "cell_type": "code",
   "execution_count": null,
   "id": "e3d83fd7-7962-430b-bce7-1b4089a14e76",
   "metadata": {},
   "outputs": [],
   "source": []
  },
  {
   "cell_type": "code",
   "execution_count": null,
   "id": "1a786a49-ae7a-44c1-893e-9326620767d8",
   "metadata": {},
   "outputs": [],
   "source": []
  },
  {
   "cell_type": "code",
   "execution_count": null,
   "id": "70947f0a-a729-4574-b04c-5626a833f316",
   "metadata": {},
   "outputs": [],
   "source": []
  },
  {
   "cell_type": "markdown",
   "id": "a0dee459-46f0-473c-b075-808747590bd6",
   "metadata": {},
   "source": [
    "# Grid Search ARIMA Model Hyperparameters"
   ]
  },
  {
   "cell_type": "code",
   "execution_count": null,
   "id": "d9856586-9786-46a8-b7c4-06c124a38d0e",
   "metadata": {},
   "outputs": [],
   "source": []
  },
  {
   "cell_type": "code",
   "execution_count": null,
   "id": "af00869b-e89c-4248-be7c-31d666843e45",
   "metadata": {},
   "outputs": [],
   "source": []
  },
  {
   "cell_type": "code",
   "execution_count": null,
   "id": "482856d7-1c12-44bc-989c-3c18f3d75a01",
   "metadata": {},
   "outputs": [],
   "source": []
  },
  {
   "cell_type": "markdown",
   "id": "2a3b5a9f-6fd9-4718-b472-d714c0035a35",
   "metadata": {},
   "source": [
    "# Save Models and Make Predictions"
   ]
  },
  {
   "cell_type": "code",
   "execution_count": null,
   "id": "937af853-d22e-49f2-9a70-f494d0afbdb2",
   "metadata": {},
   "outputs": [],
   "source": []
  },
  {
   "cell_type": "code",
   "execution_count": null,
   "id": "0ccab87d-2d3c-4f1b-970f-66f3223c2a52",
   "metadata": {},
   "outputs": [],
   "source": []
  },
  {
   "cell_type": "code",
   "execution_count": null,
   "id": "d43a22c4-b9a0-4593-a985-2156beab649f",
   "metadata": {},
   "outputs": [],
   "source": []
  },
  {
   "cell_type": "markdown",
   "id": "83088a21-0e1a-4a9e-882d-784e34e04a4a",
   "metadata": {},
   "source": [
    "# Forecast Confidence Intervals"
   ]
  },
  {
   "cell_type": "code",
   "execution_count": null,
   "id": "b06cb59c-c4c2-47f2-88c9-6fe9b57fc504",
   "metadata": {},
   "outputs": [],
   "source": []
  },
  {
   "cell_type": "code",
   "execution_count": null,
   "id": "51a2bbd0-d8e9-4a22-8d28-26740eb7bb0b",
   "metadata": {},
   "outputs": [],
   "source": []
  },
  {
   "cell_type": "code",
   "execution_count": null,
   "id": "70f2498f-e4b8-4cb3-a4b8-1cbc5aeb2953",
   "metadata": {},
   "outputs": [],
   "source": []
  },
  {
   "cell_type": "code",
   "execution_count": null,
   "id": "dc4de1c4-67be-4654-927a-94354c9a8e9b",
   "metadata": {},
   "outputs": [],
   "source": []
  },
  {
   "cell_type": "code",
   "execution_count": null,
   "id": "2cabbe7c-513d-4362-b14b-2106b0858219",
   "metadata": {},
   "outputs": [],
   "source": []
  }
 ],
 "metadata": {
  "kernelspec": {
   "display_name": "tensorflow",
   "language": "python",
   "name": "tensorflow"
  },
  "language_info": {
   "codemirror_mode": {
    "name": "ipython",
    "version": 3
   },
   "file_extension": ".py",
   "mimetype": "text/x-python",
   "name": "python",
   "nbconvert_exporter": "python",
   "pygments_lexer": "ipython3",
   "version": "3.8.13"
  }
 },
 "nbformat": 4,
 "nbformat_minor": 5
}
